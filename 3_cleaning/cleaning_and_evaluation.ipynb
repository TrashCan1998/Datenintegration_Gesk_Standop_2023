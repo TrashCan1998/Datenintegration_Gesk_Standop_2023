{
 "cells": [
  {
   "cell_type": "code",
   "execution_count": 1,
   "id": "b19f471b",
   "metadata": {},
   "outputs": [],
   "source": [
    "import pandas as pd\n",
    "import numpy as np\n",
    "import os"
   ]
  },
  {
   "cell_type": "code",
   "execution_count": 39,
   "id": "56da67f2",
   "metadata": {},
   "outputs": [
    {
     "data": {
      "text/html": [
       "<div>\n",
       "<style scoped>\n",
       "    .dataframe tbody tr th:only-of-type {\n",
       "        vertical-align: middle;\n",
       "    }\n",
       "\n",
       "    .dataframe tbody tr th {\n",
       "        vertical-align: top;\n",
       "    }\n",
       "\n",
       "    .dataframe thead th {\n",
       "        text-align: right;\n",
       "    }\n",
       "</style>\n",
       "<table border=\"1\" class=\"dataframe\">\n",
       "  <thead>\n",
       "    <tr style=\"text-align: right;\">\n",
       "      <th></th>\n",
       "      <th></th>\n",
       "      <th>RouteId</th>\n",
       "      <th>StartTime</th>\n",
       "      <th>StopId</th>\n",
       "      <th>StopSequence</th>\n",
       "      <th>ArrivalDelay</th>\n",
       "      <th>ArrivalTime</th>\n",
       "      <th>DepartureDelay</th>\n",
       "      <th>DepartureTime</th>\n",
       "      <th>ScheduleRelationship</th>\n",
       "    </tr>\n",
       "    <tr>\n",
       "      <th>TripId</th>\n",
       "      <th>StartDate</th>\n",
       "      <th></th>\n",
       "      <th></th>\n",
       "      <th></th>\n",
       "      <th></th>\n",
       "      <th></th>\n",
       "      <th></th>\n",
       "      <th></th>\n",
       "      <th></th>\n",
       "      <th></th>\n",
       "    </tr>\n",
       "  </thead>\n",
       "  <tbody>\n",
       "    <tr>\n",
       "      <th>254163638</th>\n",
       "      <th>20230508</th>\n",
       "      <td>43975</td>\n",
       "      <td>19:44:00</td>\n",
       "      <td>9057862</td>\n",
       "      <td>NaN</td>\n",
       "      <td>NaN</td>\n",
       "      <td>NaN</td>\n",
       "      <td>0.0</td>\n",
       "      <td>NaN</td>\n",
       "      <td>Scheduled</td>\n",
       "    </tr>\n",
       "    <tr>\n",
       "      <th>282351984</th>\n",
       "      <th>20230509</th>\n",
       "      <td>43245</td>\n",
       "      <td>17:12:00</td>\n",
       "      <td>9013478</td>\n",
       "      <td>NaN</td>\n",
       "      <td>NaN</td>\n",
       "      <td>NaN</td>\n",
       "      <td>0.0</td>\n",
       "      <td>NaN</td>\n",
       "      <td>Scheduled</td>\n",
       "    </tr>\n",
       "    <tr>\n",
       "      <th>282385362</th>\n",
       "      <th>20230508</th>\n",
       "      <td>43195</td>\n",
       "      <td>20:03:00</td>\n",
       "      <td>9058008</td>\n",
       "      <td>5.0</td>\n",
       "      <td>-60.0</td>\n",
       "      <td>NaN</td>\n",
       "      <td>0.0</td>\n",
       "      <td>NaN</td>\n",
       "      <td>Scheduled</td>\n",
       "    </tr>\n",
       "    <tr>\n",
       "      <th>264505093</th>\n",
       "      <th>20230508</th>\n",
       "      <td>59935</td>\n",
       "      <td>19:12:00</td>\n",
       "      <td>9050640</td>\n",
       "      <td>11.0</td>\n",
       "      <td>30.0</td>\n",
       "      <td>NaN</td>\n",
       "      <td>30.0</td>\n",
       "      <td>NaN</td>\n",
       "      <td>Scheduled</td>\n",
       "    </tr>\n",
       "    <tr>\n",
       "      <th>282384857</th>\n",
       "      <th>20230509</th>\n",
       "      <td>43216</td>\n",
       "      <td>04:37:00</td>\n",
       "      <td>9049320</td>\n",
       "      <td>NaN</td>\n",
       "      <td>NaN</td>\n",
       "      <td>NaN</td>\n",
       "      <td>0.0</td>\n",
       "      <td>NaN</td>\n",
       "      <td>Scheduled</td>\n",
       "    </tr>\n",
       "  </tbody>\n",
       "</table>\n",
       "</div>"
      ],
      "text/plain": [
       "                     RouteId StartTime   StopId  StopSequence  ArrivalDelay  \\\n",
       "TripId    StartDate                                                           \n",
       "254163638 20230508     43975  19:44:00  9057862           NaN           NaN   \n",
       "282351984 20230509     43245  17:12:00  9013478           NaN           NaN   \n",
       "282385362 20230508     43195  20:03:00  9058008           5.0         -60.0   \n",
       "264505093 20230508     59935  19:12:00  9050640          11.0          30.0   \n",
       "282384857 20230509     43216  04:37:00  9049320           NaN           NaN   \n",
       "\n",
       "                     ArrivalTime  DepartureDelay  DepartureTime  \\\n",
       "TripId    StartDate                                               \n",
       "254163638 20230508           NaN             0.0            NaN   \n",
       "282351984 20230509           NaN             0.0            NaN   \n",
       "282385362 20230508           NaN             0.0            NaN   \n",
       "264505093 20230508           NaN            30.0            NaN   \n",
       "282384857 20230509           NaN             0.0            NaN   \n",
       "\n",
       "                    ScheduleRelationship  \n",
       "TripId    StartDate                       \n",
       "254163638 20230508             Scheduled  \n",
       "282351984 20230509             Scheduled  \n",
       "282385362 20230508             Scheduled  \n",
       "264505093 20230508             Scheduled  \n",
       "282384857 20230509             Scheduled  "
      ]
     },
     "execution_count": 39,
     "metadata": {},
     "output_type": "execute_result"
    }
   ],
   "source": [
    "# actual data\n",
    "data_fetch_dates = ['0905', '0706', '0207']\n",
    "actual_data = pd.concat([pd.merge(\n",
    "    pd.read_csv(f'actualdata_trips_{date}.csv'), pd.read_csv(f'actualdata_stop_times_{date}.csv'), \n",
    "    how='left', left_on=['TripId'], right_on='TripId'\n",
    ") for date in data_fetch_dates], axis=0)\n",
    "actual_data.drop('EntityId', axis=1, inplace=True)\n",
    "actual_data.set_index(['TripId', 'StartDate'], inplace=True)\n",
    "actual_data.head()"
   ]
  },
  {
   "cell_type": "code",
   "execution_count": 40,
   "id": "282fef19",
   "metadata": {},
   "outputs": [],
   "source": [
    "#actual_data['trips']['id'] = [\n",
    "#    f'{trip_id}{date}' for trip_id, date in zip(actual_data['trips']['TripId'], actual_data['trips']['StartDate'])\n",
    "#]\n",
    "#actual_data['trips'].set_index('id', inplace=True)\n",
    "#actual_data['trips'].head(3)"
   ]
  },
  {
   "cell_type": "code",
   "execution_count": 5,
   "id": "7d7cf293",
   "metadata": {},
   "outputs": [],
   "source": [
    "# target data\n",
    "dir_target = 'C:\\\\Users\\\\nstan\\\\OneDrive\\\\Winfo\\\\SoSe_23\\\\Data Integration\\\\target_data_vbn_modified'\n",
    "rnames = ['trips', 'stops', 'stop_times', 'agency', 'routes', 'transfers']\n",
    "target_data = {rname: pd.read_csv(f'{dir_target}\\\\{rname}.csv', low_memory=False) for rname in rnames}"
   ]
  },
  {
   "cell_type": "code",
   "execution_count": null,
   "id": "d8aeb4c0",
   "metadata": {},
   "outputs": [],
   "source": []
  },
  {
   "cell_type": "code",
   "execution_count": null,
   "id": "2bb7c928",
   "metadata": {},
   "outputs": [],
   "source": [
    "# step 1: join actual trips and stop_times\n",
    "r1 = pd.merge(actual_data['stop_times'], actual_data['trips'], how='left', left_on=['TripId'], right_on=['TripId'])\n",
    "r1"
   ]
  },
  {
   "cell_type": "code",
   "execution_count": null,
   "id": "50d1b458",
   "metadata": {},
   "outputs": [],
   "source": [
    "# step 2a: join routes and agency (target data)\n",
    "r2 = pd.merge(target_data['routes'], target_data['agency'], how='left', left_on=['agency_id'], right_on=['agency_id'])\n",
    "r2.head(3)"
   ]
  },
  {
   "cell_type": "code",
   "execution_count": null,
   "id": "844ac1da",
   "metadata": {},
   "outputs": [],
   "source": [
    "# step 2b: join the two relations using the Route Id\n",
    "r3 = pd.merge(r1, r2, how='left', left_on=['RouteId'], right_on=['route_id'])\n",
    "r3.head(3)\n",
    "\n",
    "# finally, it is possible to...\n",
    "# 1. determine the delay according to different agencies\n",
    "# 2. determine the delay according to means of transportation"
   ]
  },
  {
   "cell_type": "code",
   "execution_count": null,
   "id": "e1e8a75e",
   "metadata": {},
   "outputs": [],
   "source": [
    "# step 3: join TARGET trips and stop_times\n",
    "r4 = pd.merge(target_data['stop_times'], target_data['trips'], how='left', left_on=['trip_id'], right_on=['trip_id'])\n",
    "r4.head(3)"
   ]
  },
  {
   "cell_type": "code",
   "execution_count": null,
   "id": "5d0ce36b",
   "metadata": {},
   "outputs": [],
   "source": [
    "# step 4: join r1 and r4 on Trip Id and Stop Id\n",
    "# their schemata match for the most part\n",
    "# however, using a left join enables to get all delays even if there is no join match\n",
    "# (possible because there is no inclusion dependency)\n",
    "r5 = pd.merge(r1, r4, how='inner', left_on=['TripId', 'StopId'], right_on=['trip_id', 'stop_id'])\n",
    "r5"
   ]
  }
 ],
 "metadata": {
  "kernelspec": {
   "display_name": "Python 3 (ipykernel)",
   "language": "python",
   "name": "python3"
  },
  "language_info": {
   "codemirror_mode": {
    "name": "ipython",
    "version": 3
   },
   "file_extension": ".py",
   "mimetype": "text/x-python",
   "name": "python",
   "nbconvert_exporter": "python",
   "pygments_lexer": "ipython3",
   "version": "3.10.9"
  }
 },
 "nbformat": 4,
 "nbformat_minor": 5
}
